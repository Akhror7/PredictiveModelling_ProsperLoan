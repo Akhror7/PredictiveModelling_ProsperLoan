{
  "nbformat": 4,
  "nbformat_minor": 0,
  "metadata": {
    "colab": {
      "name": "DecisionTreeClassifier.ipynb",
      "provenance": [],
      "authorship_tag": "ABX9TyNxNSjN/KcxYTa00x8Sad7V",
      "include_colab_link": true
    },
    "kernelspec": {
      "name": "python3",
      "display_name": "Python 3"
    },
    "language_info": {
      "name": "python"
    }
  },
  "cells": [
    {
      "cell_type": "markdown",
      "metadata": {
        "id": "view-in-github",
        "colab_type": "text"
      },
      "source": [
        "<a href=\"https://colab.research.google.com/github/Akhror7/PredictiveModelling_ProsperLoan/blob/main/DecisionTreeClassifier.ipynb\" target=\"_parent\"><img src=\"https://colab.research.google.com/assets/colab-badge.svg\" alt=\"Open In Colab\"/></a>"
      ]
    },
    {
      "cell_type": "code",
      "execution_count": 128,
      "metadata": {
        "id": "UHX0-0uk88ax"
      },
      "outputs": [],
      "source": [
        "import pandas as pd \n",
        "from sklearn.model_selection import cross_validate\n",
        "from sklearn.tree import DecisionTreeClassifier\n",
        "from sklearn.tree import DecisionTreeRegressor\n",
        "from sklearn.metrics import accuracy_score\n",
        "from sklearn.preprocessing import MinMaxScaler"
      ]
    },
    {
      "cell_type": "code",
      "source": [
        "from sklearn.model_selection import train_test_split"
      ],
      "metadata": {
        "id": "SMNtriaS-AzA"
      },
      "execution_count": 129,
      "outputs": []
    },
    {
      "cell_type": "code",
      "source": [
        "df = pd.read_csv('https://raw.githubusercontent.com/Akhror7/PredictiveModelling_ProsperLoan/main/cleaned_data_prosperLoan.csv')"
      ],
      "metadata": {
        "id": "R2STrTyS9EJy"
      },
      "execution_count": 130,
      "outputs": []
    },
    {
      "cell_type": "code",
      "source": [
        "df_model = df[['LoanCurrentDaysDelinquent','LP_NetPrincipalLoss','LP_GrossPrincipalLoss','LoanMonthsSinceOrigination','LP_CustomerPrincipalPayments','ProsperRating (numeric)','LP_CollectionFees','LenderYield','LoanStatus']]"
      ],
      "metadata": {
        "id": "695uAM7F9Gfi"
      },
      "execution_count": 131,
      "outputs": []
    },
    {
      "cell_type": "code",
      "source": [
        "df_model.dropna(inplace=True)"
      ],
      "metadata": {
        "colab": {
          "base_uri": "https://localhost:8080/"
        },
        "id": "VAw3Q4E2-TlO",
        "outputId": "b7b276fb-d7de-4b19-eb59-40e8803d97cb"
      },
      "execution_count": 132,
      "outputs": [
        {
          "output_type": "stream",
          "name": "stderr",
          "text": [
            "/usr/local/lib/python3.7/dist-packages/pandas/util/_decorators.py:311: SettingWithCopyWarning: \n",
            "A value is trying to be set on a copy of a slice from a DataFrame\n",
            "\n",
            "See the caveats in the documentation: https://pandas.pydata.org/pandas-docs/stable/user_guide/indexing.html#returning-a-view-versus-a-copy\n",
            "  return func(*args, **kwargs)\n"
          ]
        }
      ]
    },
    {
      "cell_type": "code",
      "source": [
        "X = df_model.drop('LoanStatus',axis=1)\n",
        "y = df_model['LoanStatus']"
      ],
      "metadata": {
        "id": "QM1wgEhx9J_S"
      },
      "execution_count": 133,
      "outputs": []
    },
    {
      "cell_type": "code",
      "source": [
        "scale=MinMaxScaler()\n",
        "X_scaled=scale.fit_transform(X)"
      ],
      "metadata": {
        "id": "Z_MI36nc90B5"
      },
      "execution_count": 134,
      "outputs": []
    },
    {
      "cell_type": "code",
      "source": [
        "X_train,X_test,y_train,y_test= train_test_split(X_scaled , y ,test_size=0.3,stratify=y,random_state=42 )"
      ],
      "metadata": {
        "id": "RRmBXb2p9v0C"
      },
      "execution_count": 135,
      "outputs": []
    },
    {
      "cell_type": "code",
      "source": [
        "dc=DecisionTreeClassifier()\n",
        "modelc=dc.fit(X_train,y_train)"
      ],
      "metadata": {
        "id": "d6b7FxqPB52p"
      },
      "execution_count": 136,
      "outputs": []
    },
    {
      "cell_type": "code",
      "source": [
        "prediction = modelc.predict(X_test)"
      ],
      "metadata": {
        "id": "sbRtL-xqB_mw"
      },
      "execution_count": 137,
      "outputs": []
    },
    {
      "cell_type": "code",
      "source": [
        "print(accuracy_score(prediction,y_test))"
      ],
      "metadata": {
        "colab": {
          "base_uri": "https://localhost:8080/"
        },
        "id": "Re0VkUuvCB1p",
        "outputId": "853f5970-0d79-48c6-ed95-e28a5c30cdc0"
      },
      "execution_count": 138,
      "outputs": [
        {
          "output_type": "stream",
          "name": "stdout",
          "text": [
            "0.9968932404443608\n"
          ]
        }
      ]
    }
  ]
}