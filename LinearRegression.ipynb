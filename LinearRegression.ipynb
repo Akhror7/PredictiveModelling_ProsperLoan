{
  "nbformat": 4,
  "nbformat_minor": 0,
  "metadata": {
    "colab": {
      "name": "LinearRegression.ipynb",
      "provenance": [],
      "authorship_tag": "ABX9TyMUdPPZzR/B4X8udrnTGLSW",
      "include_colab_link": true
    },
    "kernelspec": {
      "name": "python3",
      "display_name": "Python 3"
    },
    "language_info": {
      "name": "python"
    }
  },
  "cells": [
    {
      "cell_type": "markdown",
      "metadata": {
        "id": "view-in-github",
        "colab_type": "text"
      },
      "source": [
        "<a href=\"https://colab.research.google.com/github/Akhror7/PredictiveModelling_ProsperLoan/blob/main/LinearRegression.ipynb\" target=\"_parent\"><img src=\"https://colab.research.google.com/assets/colab-badge.svg\" alt=\"Open In Colab\"/></a>"
      ]
    },
    {
      "cell_type": "code",
      "execution_count": 99,
      "metadata": {
        "id": "UHX0-0uk88ax"
      },
      "outputs": [],
      "source": [
        "import pandas as pd \n",
        "from sklearn.model_selection import cross_validate\n",
        "from sklearn.linear_model import LogisticRegression\n",
        "from sklearn.metrics import accuracy_score\n",
        "from sklearn.preprocessing import MinMaxScaler"
      ]
    },
    {
      "cell_type": "code",
      "source": [
        "from sklearn.model_selection import train_test_split"
      ],
      "metadata": {
        "id": "SMNtriaS-AzA"
      },
      "execution_count": 100,
      "outputs": []
    },
    {
      "cell_type": "code",
      "source": [
        "df = pd.read_csv('https://raw.githubusercontent.com/Akhror7/PredictiveModelling_ProsperLoan/main/cleaned_data_prosperLoan.csv')"
      ],
      "metadata": {
        "id": "R2STrTyS9EJy"
      },
      "execution_count": 101,
      "outputs": []
    },
    {
      "cell_type": "code",
      "source": [
        "df_model = df[['LoanCurrentDaysDelinquent','LP_NetPrincipalLoss','LP_GrossPrincipalLoss','LoanMonthsSinceOrigination','LP_CustomerPrincipalPayments','ProsperRating (numeric)','LP_CollectionFees','LenderYield','BorrowerAPR''LoanStatus']]"
      ],
      "metadata": {
        "id": "695uAM7F9Gfi"
      },
      "execution_count": 102,
      "outputs": []
    },
    {
      "cell_type": "code",
      "source": [
        "df_model.dropna(inplace=True)"
      ],
      "metadata": {
        "colab": {
          "base_uri": "https://localhost:8080/"
        },
        "id": "VAw3Q4E2-TlO",
        "outputId": "caf90143-f8b8-43b7-dc23-25f6d9ccade6"
      },
      "execution_count": 103,
      "outputs": [
        {
          "output_type": "stream",
          "name": "stderr",
          "text": [
            "/usr/local/lib/python3.7/dist-packages/pandas/util/_decorators.py:311: SettingWithCopyWarning: \n",
            "A value is trying to be set on a copy of a slice from a DataFrame\n",
            "\n",
            "See the caveats in the documentation: https://pandas.pydata.org/pandas-docs/stable/user_guide/indexing.html#returning-a-view-versus-a-copy\n",
            "  return func(*args, **kwargs)\n"
          ]
        }
      ]
    },
    {
      "cell_type": "code",
      "source": [
        "X = df_model.drop('LoanStatus',axis=1)\n",
        "y = df_model['LoanStatus']"
      ],
      "metadata": {
        "id": "QM1wgEhx9J_S"
      },
      "execution_count": 104,
      "outputs": []
    },
    {
      "cell_type": "code",
      "source": [
        "scale=MinMaxScaler()\n",
        "X_scaled=scale.fit_transform(X)"
      ],
      "metadata": {
        "id": "Z_MI36nc90B5"
      },
      "execution_count": 105,
      "outputs": []
    },
    {
      "cell_type": "code",
      "source": [
        "X_train,X_test,y_train,y_test= train_test_split(X_scaled , y ,test_size=0.3,stratify=y,random_state=42 )"
      ],
      "metadata": {
        "id": "RRmBXb2p9v0C"
      },
      "execution_count": 106,
      "outputs": []
    },
    {
      "cell_type": "code",
      "source": [
        "lr=LogisticRegression(C=1000.0,random_state=0,max_iter=500)\n",
        "model=lr.fit(X_train,y_train)"
      ],
      "metadata": {
        "id": "kY934O7A-ZQq"
      },
      "execution_count": 107,
      "outputs": []
    },
    {
      "cell_type": "code",
      "source": [
        "predictions = model.predict(X_test)"
      ],
      "metadata": {
        "id": "yUX3kJGH-j4Z"
      },
      "execution_count": 108,
      "outputs": []
    },
    {
      "cell_type": "code",
      "source": [
        "print(accuracy_score(predictions,y_test))"
      ],
      "metadata": {
        "colab": {
          "base_uri": "https://localhost:8080/"
        },
        "id": "joYZW3N9-mkS",
        "outputId": "520ec5b5-baa2-45ad-ce96-bf369cab7ddb"
      },
      "execution_count": 109,
      "outputs": [
        {
          "output_type": "stream",
          "name": "stdout",
          "text": [
            "0.9930647084667044\n"
          ]
        }
      ]
    }
  ]
}