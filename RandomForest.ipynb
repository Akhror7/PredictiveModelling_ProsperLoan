{
  "nbformat": 4,
  "nbformat_minor": 0,
  "metadata": {
    "colab": {
      "name": "RandomForest.ipynb",
      "provenance": [],
      "authorship_tag": "ABX9TyM1vws+RMTwUfN5XjfZ6f7O",
      "include_colab_link": true
    },
    "kernelspec": {
      "name": "python3",
      "display_name": "Python 3"
    },
    "language_info": {
      "name": "python"
    }
  },
  "cells": [
    {
      "cell_type": "markdown",
      "metadata": {
        "id": "view-in-github",
        "colab_type": "text"
      },
      "source": [
        "<a href=\"https://colab.research.google.com/github/Akhror7/PredictiveModelling_ProsperLoan/blob/main/RandomForest.ipynb\" target=\"_parent\"><img src=\"https://colab.research.google.com/assets/colab-badge.svg\" alt=\"Open In Colab\"/></a>"
      ]
    },
    {
      "cell_type": "code",
      "execution_count": 74,
      "metadata": {
        "id": "UHX0-0uk88ax"
      },
      "outputs": [],
      "source": [
        "import pandas as pd \n",
        "from sklearn.model_selection import cross_validate\n",
        "from sklearn.ensemble import RandomForestClassifier , RandomForestRegressor\n",
        "from sklearn.metrics import accuracy_score\n",
        "from sklearn.preprocessing import MinMaxScaler"
      ]
    },
    {
      "cell_type": "code",
      "source": [
        "from sklearn.model_selection import train_test_split"
      ],
      "metadata": {
        "id": "SMNtriaS-AzA"
      },
      "execution_count": 75,
      "outputs": []
    },
    {
      "cell_type": "code",
      "source": [
        "df = pd.read_csv('https://raw.githubusercontent.com/Akhror7/PredictiveModelling_ProsperLoan/main/cleaned_data_prosperLoan.csv')"
      ],
      "metadata": {
        "id": "R2STrTyS9EJy"
      },
      "execution_count": 76,
      "outputs": []
    },
    {
      "cell_type": "code",
      "source": [
        "df_model = df[['LoanCurrentDaysDelinquent','LP_NetPrincipalLoss','LP_GrossPrincipalLoss','LoanMonthsSinceOrigination','LP_CustomerPrincipalPayments','ProsperRating (numeric)','LP_CollectionFees','LenderYield','LoanStatus']]"
      ],
      "metadata": {
        "id": "695uAM7F9Gfi"
      },
      "execution_count": 77,
      "outputs": []
    },
    {
      "cell_type": "code",
      "source": [
        "df_model.dropna(inplace=True)"
      ],
      "metadata": {
        "colab": {
          "base_uri": "https://localhost:8080/"
        },
        "id": "VAw3Q4E2-TlO",
        "outputId": "e16c7804-db56-46b8-a91a-aa1de3346c74"
      },
      "execution_count": 78,
      "outputs": [
        {
          "output_type": "stream",
          "name": "stderr",
          "text": [
            "/usr/local/lib/python3.7/dist-packages/pandas/util/_decorators.py:311: SettingWithCopyWarning: \n",
            "A value is trying to be set on a copy of a slice from a DataFrame\n",
            "\n",
            "See the caveats in the documentation: https://pandas.pydata.org/pandas-docs/stable/user_guide/indexing.html#returning-a-view-versus-a-copy\n",
            "  return func(*args, **kwargs)\n"
          ]
        }
      ]
    },
    {
      "cell_type": "code",
      "source": [
        "X = df_model.drop('LoanStatus',axis=1)\n",
        "y = df_model['LoanStatus']"
      ],
      "metadata": {
        "id": "QM1wgEhx9J_S"
      },
      "execution_count": 79,
      "outputs": []
    },
    {
      "cell_type": "code",
      "source": [
        "scale=MinMaxScaler()\n",
        "X_scaled=scale.fit_transform(X)"
      ],
      "metadata": {
        "id": "Z_MI36nc90B5"
      },
      "execution_count": 80,
      "outputs": []
    },
    {
      "cell_type": "code",
      "source": [
        "X_train,X_test,y_train,y_test= train_test_split(X_scaled , y ,test_size=0.3,stratify=y,random_state=42 )"
      ],
      "metadata": {
        "id": "RRmBXb2p9v0C"
      },
      "execution_count": 81,
      "outputs": []
    },
    {
      "cell_type": "code",
      "source": [
        "rf=RandomForestClassifier(n_estimators=50,criterion=\"entropy\",random_state=42)\n",
        "model=rf.fit(X_train,y_train)"
      ],
      "metadata": {
        "id": "kY934O7A-ZQq"
      },
      "execution_count": 82,
      "outputs": []
    },
    {
      "cell_type": "code",
      "source": [
        "predictions = model.predict(X_test)"
      ],
      "metadata": {
        "id": "yUX3kJGH-j4Z"
      },
      "execution_count": 83,
      "outputs": []
    },
    {
      "cell_type": "code",
      "source": [
        "print(accuracy_score(predictions,y_test))"
      ],
      "metadata": {
        "colab": {
          "base_uri": "https://localhost:8080/"
        },
        "id": "joYZW3N9-mkS",
        "outputId": "2b104bb2-8f7a-400a-8c53-356579f30184"
      },
      "execution_count": 84,
      "outputs": [
        {
          "output_type": "stream",
          "name": "stdout",
          "text": [
            "0.9982112596497835\n"
          ]
        }
      ]
    },
    {
      "cell_type": "code",
      "source": [
        "rfr=RandomForestClassifier(n_estimators=50,random_state=42)\n",
        "modelr=rfr.fit(X_train,y_train)"
      ],
      "metadata": {
        "id": "Nwzg1seM-uPJ"
      },
      "execution_count": 85,
      "outputs": []
    },
    {
      "cell_type": "code",
      "source": [
        "prediction = modelr.predict(X_test)"
      ],
      "metadata": {
        "id": "uHeMOjmb-7fM"
      },
      "execution_count": 86,
      "outputs": []
    },
    {
      "cell_type": "code",
      "source": [
        "print(accuracy_score(prediction,y_test))"
      ],
      "metadata": {
        "colab": {
          "base_uri": "https://localhost:8080/"
        },
        "id": "OKz9D8Fn_AP5",
        "outputId": "9f7e34a8-46ed-4228-fcaa-625a8ecf4d89"
      },
      "execution_count": 87,
      "outputs": [
        {
          "output_type": "stream",
          "name": "stdout",
          "text": [
            "0.9981798782401305\n"
          ]
        }
      ]
    }
  ]
}