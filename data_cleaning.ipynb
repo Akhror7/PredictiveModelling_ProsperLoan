{
  "cells": [
    {
      "cell_type": "markdown",
      "metadata": {
        "id": "view-in-github",
        "colab_type": "text"
      },
      "source": [
        "<a href=\"https://colab.research.google.com/github/Akhror7/PredictiveModelling_ProsperLoan/blob/main/data_cleaning.ipynb\" target=\"_parent\"><img src=\"https://colab.research.google.com/assets/colab-badge.svg\" alt=\"Open In Colab\"/></a>"
      ]
    },
    {
      "cell_type": "code",
      "execution_count": 1,
      "metadata": {
        "id": "LYrhAyf0h_Ln"
      },
      "outputs": [],
      "source": [
        "import pandas as pd\n",
        "import numpy as  np\n",
        "import matplotlib.pyplot as plt\n",
        "import seaborn as sns"
      ]
    },
    {
      "cell_type": "code",
      "execution_count": 2,
      "metadata": {
        "id": "HWMa1JrXiUlO"
      },
      "outputs": [],
      "source": [
        "df = pd.read_csv('https://bit.ly/prosper-dataset')"
      ]
    },
    {
      "cell_type": "code",
      "execution_count": 3,
      "metadata": {
        "id": "TlOunZswiakd"
      },
      "outputs": [],
      "source": [
        "grade_to_number = {'N/A':0,'HR':1,'E':2,'D':3,'C':4,'B':5,'A':6,'AA':7}"
      ]
    },
    {
      "cell_type": "code",
      "execution_count": 4,
      "metadata": {
        "id": "5Ltr5YtljVrt"
      },
      "outputs": [],
      "source": [
        " df = df.replace({'CreditGrade': grade_to_number})"
      ]
    },
    {
      "cell_type": "code",
      "execution_count": 5,
      "metadata": {
        "id": "hwtkvC1Pm8oU"
      },
      "outputs": [],
      "source": [
        " df['ProsperRating (numeric)'].fillna(df['CreditGrade'],inplace=True)\n",
        " df['ProsperRating (numeric)'] = pd.to_numeric(df['ProsperRating (numeric)'], errors='coerce')"
      ]
    },
    {
      "cell_type": "code",
      "execution_count": 6,
      "metadata": {
        "id": "C6EVyYuXtHOX"
      },
      "outputs": [],
      "source": [
        "df = df.dropna(thresh=df.shape[0]*0.6,how='all',axis=1)"
      ]
    },
    {
      "cell_type": "code",
      "execution_count": 7,
      "metadata": {
        "id": "TpNfyELeWsp0"
      },
      "outputs": [],
      "source": [
        "dfnew = df.drop(['MemberKey','LoanOriginationQuarter','LoanOriginationDate','LoanKey','FirstRecordedCreditLine','DateCreditPulled','ListingKey','ListingNumber','ListingCreationDate','BorrowerRate','ProsperRating (Alpha)','ProsperScore'],axis=1)"
      ]
    },
    {
      "cell_type": "code",
      "execution_count": 8,
      "metadata": {
        "colab": {
          "base_uri": "https://localhost:8080/"
        },
        "id": "XxKl5z4CXH-Z",
        "outputId": "0b3197bf-8c0f-4e3c-c4fc-b0817c1699c2"
      },
      "outputs": [
        {
          "output_type": "stream",
          "name": "stderr",
          "text": [
            "/usr/local/lib/python3.7/dist-packages/ipykernel_launcher.py:2: FutureWarning: Dropping of nuisance columns in DataFrame reductions (with 'numeric_only=None') is deprecated; in a future version this will raise TypeError.  Select only valid columns before calling the reduction.\n",
            "  \n"
          ]
        },
        {
          "output_type": "stream",
          "name": "stdout",
          "text": [
            "<class 'pandas.core.frame.DataFrame'>\n",
            "RangeIndex: 113937 entries, 0 to 113936\n",
            "Data columns (total 57 columns):\n",
            " #   Column                              Non-Null Count   Dtype  \n",
            "---  ------                              --------------   -----  \n",
            " 0   Term                                113937 non-null  int64  \n",
            " 1   LoanStatus                          113937 non-null  object \n",
            " 2   BorrowerAPR                         113937 non-null  float64\n",
            " 3   LenderYield                         113937 non-null  float64\n",
            " 4   EstimatedEffectiveYield             113937 non-null  float64\n",
            " 5   EstimatedLoss                       113937 non-null  float64\n",
            " 6   EstimatedReturn                     113937 non-null  float64\n",
            " 7   ProsperRating (numeric)             113937 non-null  float64\n",
            " 8   ListingCategory (numeric)           113937 non-null  int64  \n",
            " 9   BorrowerState                       108422 non-null  object \n",
            " 10  Occupation                          110349 non-null  object \n",
            " 11  EmploymentStatus                    111682 non-null  object \n",
            " 12  EmploymentStatusDuration            113937 non-null  float64\n",
            " 13  IsBorrowerHomeowner                 113937 non-null  int64  \n",
            " 14  CurrentlyInGroup                    113937 non-null  int64  \n",
            " 15  CreditScoreRangeLower               113937 non-null  float64\n",
            " 16  CreditScoreRangeUpper               113937 non-null  float64\n",
            " 17  CurrentCreditLines                  113937 non-null  float64\n",
            " 18  OpenCreditLines                     113937 non-null  float64\n",
            " 19  TotalCreditLinespast7years          113937 non-null  float64\n",
            " 20  OpenRevolvingAccounts               113937 non-null  int64  \n",
            " 21  OpenRevolvingMonthlyPayment         113937 non-null  float64\n",
            " 22  InquiriesLast6Months                113937 non-null  float64\n",
            " 23  TotalInquiries                      113937 non-null  float64\n",
            " 24  CurrentDelinquencies                113937 non-null  float64\n",
            " 25  AmountDelinquent                    113937 non-null  float64\n",
            " 26  DelinquenciesLast7Years             113937 non-null  float64\n",
            " 27  PublicRecordsLast10Years            113937 non-null  float64\n",
            " 28  PublicRecordsLast12Months           113937 non-null  float64\n",
            " 29  RevolvingCreditBalance              113937 non-null  float64\n",
            " 30  BankcardUtilization                 113937 non-null  float64\n",
            " 31  AvailableBankcardCredit             113937 non-null  float64\n",
            " 32  TotalTrades                         113937 non-null  float64\n",
            " 33  TradesNeverDelinquent (percentage)  113937 non-null  float64\n",
            " 34  TradesOpenedLast6Months             113937 non-null  float64\n",
            " 35  DebtToIncomeRatio                   113937 non-null  float64\n",
            " 36  IncomeRange                         113937 non-null  object \n",
            " 37  IncomeVerifiable                    113937 non-null  int64  \n",
            " 38  StatedMonthlyIncome                 113937 non-null  float64\n",
            " 39  LoanCurrentDaysDelinquent           113937 non-null  int64  \n",
            " 40  LoanMonthsSinceOrigination          113937 non-null  int64  \n",
            " 41  LoanNumber                          113937 non-null  int64  \n",
            " 42  LoanOriginalAmount                  113937 non-null  int64  \n",
            " 43  MonthlyLoanPayment                  113937 non-null  float64\n",
            " 44  LP_CustomerPayments                 113937 non-null  float64\n",
            " 45  LP_CustomerPrincipalPayments        113937 non-null  float64\n",
            " 46  LP_InterestandFees                  113937 non-null  float64\n",
            " 47  LP_ServiceFees                      113937 non-null  float64\n",
            " 48  LP_CollectionFees                   113937 non-null  float64\n",
            " 49  LP_GrossPrincipalLoss               113937 non-null  float64\n",
            " 50  LP_NetPrincipalLoss                 113937 non-null  float64\n",
            " 51  LP_NonPrincipalRecoverypayments     113937 non-null  float64\n",
            " 52  PercentFunded                       113937 non-null  float64\n",
            " 53  Recommendations                     113937 non-null  int64  \n",
            " 54  InvestmentFromFriendsCount          113937 non-null  int64  \n",
            " 55  InvestmentFromFriendsAmount         113937 non-null  float64\n",
            " 56  Investors                           113937 non-null  int64  \n",
            "dtypes: float64(39), int64(13), object(5)\n",
            "memory usage: 49.5+ MB\n"
          ]
        }
      ],
      "source": [
        "dfnew = dfnew*1\n",
        "dfnew=dfnew.fillna(dfnew.mean())\n",
        "dfnew.info()"
      ]
    },
    {
      "cell_type": "code",
      "execution_count": 9,
      "metadata": {
        "id": "QjIVObTFWfOA"
      },
      "outputs": [],
      "source": [
        "dfnew.dropna(inplace=True)"
      ]
    },
    {
      "cell_type": "code",
      "execution_count": 10,
      "metadata": {
        "id": "RNTp1AryaL7q"
      },
      "outputs": [],
      "source": [
        "dfnew['LoanStatus'] = dfnew['LoanStatus'].apply(lambda x: x.split(\" \")[0]).astype(str) \n",
        "Status_mapping = {\n",
        "           'Current': 1,\n",
        "           'Completed': 1,\n",
        "           'Past': 0,\n",
        "            'Defaulted': 0,\n",
        "            'Chargedoff': 0,\n",
        "            'FinalPaymentInProgress': 0}\n",
        "\n",
        "dfnew['LoanStatus'] = dfnew['LoanStatus'].map(Status_mapping)"
      ]
    },
    {
      "cell_type": "code",
      "source": [
        "dfnew.info()"
      ],
      "metadata": {
        "colab": {
          "base_uri": "https://localhost:8080/"
        },
        "id": "8_vSh6O3wThY",
        "outputId": "52ba111a-4341-41de-ba67-ccdff5db038b"
      },
      "execution_count": 11,
      "outputs": [
        {
          "output_type": "stream",
          "name": "stdout",
          "text": [
            "<class 'pandas.core.frame.DataFrame'>\n",
            "Int64Index: 106221 entries, 0 to 113936\n",
            "Data columns (total 57 columns):\n",
            " #   Column                              Non-Null Count   Dtype  \n",
            "---  ------                              --------------   -----  \n",
            " 0   Term                                106221 non-null  int64  \n",
            " 1   LoanStatus                          106220 non-null  float64\n",
            " 2   BorrowerAPR                         106221 non-null  float64\n",
            " 3   LenderYield                         106221 non-null  float64\n",
            " 4   EstimatedEffectiveYield             106221 non-null  float64\n",
            " 5   EstimatedLoss                       106221 non-null  float64\n",
            " 6   EstimatedReturn                     106221 non-null  float64\n",
            " 7   ProsperRating (numeric)             106221 non-null  float64\n",
            " 8   ListingCategory (numeric)           106221 non-null  int64  \n",
            " 9   BorrowerState                       106221 non-null  object \n",
            " 10  Occupation                          106221 non-null  object \n",
            " 11  EmploymentStatus                    106221 non-null  object \n",
            " 12  EmploymentStatusDuration            106221 non-null  float64\n",
            " 13  IsBorrowerHomeowner                 106221 non-null  int64  \n",
            " 14  CurrentlyInGroup                    106221 non-null  int64  \n",
            " 15  CreditScoreRangeLower               106221 non-null  float64\n",
            " 16  CreditScoreRangeUpper               106221 non-null  float64\n",
            " 17  CurrentCreditLines                  106221 non-null  float64\n",
            " 18  OpenCreditLines                     106221 non-null  float64\n",
            " 19  TotalCreditLinespast7years          106221 non-null  float64\n",
            " 20  OpenRevolvingAccounts               106221 non-null  int64  \n",
            " 21  OpenRevolvingMonthlyPayment         106221 non-null  float64\n",
            " 22  InquiriesLast6Months                106221 non-null  float64\n",
            " 23  TotalInquiries                      106221 non-null  float64\n",
            " 24  CurrentDelinquencies                106221 non-null  float64\n",
            " 25  AmountDelinquent                    106221 non-null  float64\n",
            " 26  DelinquenciesLast7Years             106221 non-null  float64\n",
            " 27  PublicRecordsLast10Years            106221 non-null  float64\n",
            " 28  PublicRecordsLast12Months           106221 non-null  float64\n",
            " 29  RevolvingCreditBalance              106221 non-null  float64\n",
            " 30  BankcardUtilization                 106221 non-null  float64\n",
            " 31  AvailableBankcardCredit             106221 non-null  float64\n",
            " 32  TotalTrades                         106221 non-null  float64\n",
            " 33  TradesNeverDelinquent (percentage)  106221 non-null  float64\n",
            " 34  TradesOpenedLast6Months             106221 non-null  float64\n",
            " 35  DebtToIncomeRatio                   106221 non-null  float64\n",
            " 36  IncomeRange                         106221 non-null  object \n",
            " 37  IncomeVerifiable                    106221 non-null  int64  \n",
            " 38  StatedMonthlyIncome                 106221 non-null  float64\n",
            " 39  LoanCurrentDaysDelinquent           106221 non-null  int64  \n",
            " 40  LoanMonthsSinceOrigination          106221 non-null  int64  \n",
            " 41  LoanNumber                          106221 non-null  int64  \n",
            " 42  LoanOriginalAmount                  106221 non-null  int64  \n",
            " 43  MonthlyLoanPayment                  106221 non-null  float64\n",
            " 44  LP_CustomerPayments                 106221 non-null  float64\n",
            " 45  LP_CustomerPrincipalPayments        106221 non-null  float64\n",
            " 46  LP_InterestandFees                  106221 non-null  float64\n",
            " 47  LP_ServiceFees                      106221 non-null  float64\n",
            " 48  LP_CollectionFees                   106221 non-null  float64\n",
            " 49  LP_GrossPrincipalLoss               106221 non-null  float64\n",
            " 50  LP_NetPrincipalLoss                 106221 non-null  float64\n",
            " 51  LP_NonPrincipalRecoverypayments     106221 non-null  float64\n",
            " 52  PercentFunded                       106221 non-null  float64\n",
            " 53  Recommendations                     106221 non-null  int64  \n",
            " 54  InvestmentFromFriendsCount          106221 non-null  int64  \n",
            " 55  InvestmentFromFriendsAmount         106221 non-null  float64\n",
            " 56  Investors                           106221 non-null  int64  \n",
            "dtypes: float64(40), int64(13), object(4)\n",
            "memory usage: 47.0+ MB\n"
          ]
        }
      ]
    },
    {
      "cell_type": "code",
      "execution_count": 12,
      "metadata": {
        "id": "DIQss0rhnt_s"
      },
      "outputs": [],
      "source": [
        "dfnew.to_csv('cleaned_data_prosperLoan.csv')"
      ]
    }
  ],
  "metadata": {
    "colab": {
      "name": "data_cleaning.ipynb",
      "provenance": [],
      "authorship_tag": "ABX9TyNvm4F0NadX1rpAZx/D9VHT",
      "include_colab_link": true
    },
    "kernelspec": {
      "display_name": "Python 3",
      "name": "python3"
    },
    "language_info": {
      "name": "python"
    }
  },
  "nbformat": 4,
  "nbformat_minor": 0
}