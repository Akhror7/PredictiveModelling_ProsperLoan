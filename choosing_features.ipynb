{
  "nbformat": 4,
  "nbformat_minor": 0,
  "metadata": {
    "colab": {
      "name": "choosing_features.ipynb",
      "provenance": [],
      "collapsed_sections": [],
      "authorship_tag": "ABX9TyOjsybVYvH74t2MEY/oQYKS",
      "include_colab_link": true
    },
    "kernelspec": {
      "name": "python3",
      "display_name": "Python 3"
    },
    "language_info": {
      "name": "python"
    }
  },
  "cells": [
    {
      "cell_type": "markdown",
      "metadata": {
        "id": "view-in-github",
        "colab_type": "text"
      },
      "source": [
        "<a href=\"https://colab.research.google.com/github/Akhror7/PredictiveModelling_ProsperLoan/blob/main/choosing_features.ipynb\" target=\"_parent\"><img src=\"https://colab.research.google.com/assets/colab-badge.svg\" alt=\"Open In Colab\"/></a>"
      ]
    },
    {
      "cell_type": "code",
      "execution_count": 104,
      "metadata": {
        "id": "vmOiLmWUqHxO"
      },
      "outputs": [],
      "source": [
        "import pandas as pd \n",
        "import numpy as np\n",
        "import matplotlib.pyplot as plt\n",
        "import seaborn as sns\n",
        "%matplotlib inline "
      ]
    },
    {
      "cell_type": "code",
      "source": [
        "df = pd.read_csv('https://raw.githubusercontent.com/Akhror7/PredictiveModelling_ProsperLoan/main/cleaned_data_prosperLoan.csv')"
      ],
      "metadata": {
        "id": "R_7fbJFnhsM4"
      },
      "execution_count": 105,
      "outputs": []
    },
    {
      "cell_type": "code",
      "source": [
        "df.shape"
      ],
      "metadata": {
        "colab": {
          "base_uri": "https://localhost:8080/"
        },
        "id": "UpUQEIJCi4nj",
        "outputId": "a62386cc-4c58-4afb-b159-0a37c26d5c0b"
      },
      "execution_count": 106,
      "outputs": [
        {
          "output_type": "execute_result",
          "data": {
            "text/plain": [
              "(106221, 58)"
            ]
          },
          "metadata": {},
          "execution_count": 106
        }
      ]
    },
    {
      "cell_type": "code",
      "source": [
        "df.info()"
      ],
      "metadata": {
        "colab": {
          "base_uri": "https://localhost:8080/"
        },
        "id": "8r4MPOAGi8qT",
        "outputId": "fb7e7447-575d-4b1e-998c-34d8280c5e7f"
      },
      "execution_count": 107,
      "outputs": [
        {
          "output_type": "stream",
          "name": "stdout",
          "text": [
            "<class 'pandas.core.frame.DataFrame'>\n",
            "RangeIndex: 106221 entries, 0 to 106220\n",
            "Data columns (total 58 columns):\n",
            " #   Column                              Non-Null Count   Dtype  \n",
            "---  ------                              --------------   -----  \n",
            " 0   Unnamed: 0                          106221 non-null  int64  \n",
            " 1   Term                                106221 non-null  int64  \n",
            " 2   LoanStatus                          106220 non-null  float64\n",
            " 3   BorrowerAPR                         106221 non-null  float64\n",
            " 4   LenderYield                         106221 non-null  float64\n",
            " 5   EstimatedEffectiveYield             106221 non-null  float64\n",
            " 6   EstimatedLoss                       106221 non-null  float64\n",
            " 7   EstimatedReturn                     106221 non-null  float64\n",
            " 8   ProsperRating (numeric)             106221 non-null  float64\n",
            " 9   ListingCategory (numeric)           106221 non-null  int64  \n",
            " 10  BorrowerState                       106221 non-null  object \n",
            " 11  Occupation                          106221 non-null  object \n",
            " 12  EmploymentStatus                    106221 non-null  object \n",
            " 13  EmploymentStatusDuration            106221 non-null  float64\n",
            " 14  IsBorrowerHomeowner                 106221 non-null  int64  \n",
            " 15  CurrentlyInGroup                    106221 non-null  int64  \n",
            " 16  CreditScoreRangeLower               106221 non-null  float64\n",
            " 17  CreditScoreRangeUpper               106221 non-null  float64\n",
            " 18  CurrentCreditLines                  106221 non-null  float64\n",
            " 19  OpenCreditLines                     106221 non-null  float64\n",
            " 20  TotalCreditLinespast7years          106221 non-null  float64\n",
            " 21  OpenRevolvingAccounts               106221 non-null  int64  \n",
            " 22  OpenRevolvingMonthlyPayment         106221 non-null  float64\n",
            " 23  InquiriesLast6Months                106221 non-null  float64\n",
            " 24  TotalInquiries                      106221 non-null  float64\n",
            " 25  CurrentDelinquencies                106221 non-null  float64\n",
            " 26  AmountDelinquent                    106221 non-null  float64\n",
            " 27  DelinquenciesLast7Years             106221 non-null  float64\n",
            " 28  PublicRecordsLast10Years            106221 non-null  float64\n",
            " 29  PublicRecordsLast12Months           106221 non-null  float64\n",
            " 30  RevolvingCreditBalance              106221 non-null  float64\n",
            " 31  BankcardUtilization                 106221 non-null  float64\n",
            " 32  AvailableBankcardCredit             106221 non-null  float64\n",
            " 33  TotalTrades                         106221 non-null  float64\n",
            " 34  TradesNeverDelinquent (percentage)  106221 non-null  float64\n",
            " 35  TradesOpenedLast6Months             106221 non-null  float64\n",
            " 36  DebtToIncomeRatio                   106221 non-null  float64\n",
            " 37  IncomeRange                         106221 non-null  object \n",
            " 38  IncomeVerifiable                    106221 non-null  int64  \n",
            " 39  StatedMonthlyIncome                 106221 non-null  float64\n",
            " 40  LoanCurrentDaysDelinquent           106221 non-null  int64  \n",
            " 41  LoanMonthsSinceOrigination          106221 non-null  int64  \n",
            " 42  LoanNumber                          106221 non-null  int64  \n",
            " 43  LoanOriginalAmount                  106221 non-null  int64  \n",
            " 44  MonthlyLoanPayment                  106221 non-null  float64\n",
            " 45  LP_CustomerPayments                 106221 non-null  float64\n",
            " 46  LP_CustomerPrincipalPayments        106221 non-null  float64\n",
            " 47  LP_InterestandFees                  106221 non-null  float64\n",
            " 48  LP_ServiceFees                      106221 non-null  float64\n",
            " 49  LP_CollectionFees                   106221 non-null  float64\n",
            " 50  LP_GrossPrincipalLoss               106221 non-null  float64\n",
            " 51  LP_NetPrincipalLoss                 106221 non-null  float64\n",
            " 52  LP_NonPrincipalRecoverypayments     106221 non-null  float64\n",
            " 53  PercentFunded                       106221 non-null  float64\n",
            " 54  Recommendations                     106221 non-null  int64  \n",
            " 55  InvestmentFromFriendsCount          106221 non-null  int64  \n",
            " 56  InvestmentFromFriendsAmount         106221 non-null  float64\n",
            " 57  Investors                           106221 non-null  int64  \n",
            "dtypes: float64(40), int64(14), object(4)\n",
            "memory usage: 47.0+ MB\n"
          ]
        }
      ]
    },
    {
      "cell_type": "code",
      "source": [
        "df.dropna(inplace=True)"
      ],
      "metadata": {
        "id": "wSq6JS4NlrvY"
      },
      "execution_count": 108,
      "outputs": []
    },
    {
      "cell_type": "code",
      "source": [
        "df[['BorrowerState','Occupation','EmploymentStatus','IncomeRange']]"
      ],
      "metadata": {
        "colab": {
          "base_uri": "https://localhost:8080/",
          "height": 424
        },
        "id": "Jt7yzuuSscGv",
        "outputId": "3e5e7754-a92c-4395-fc36-63d977fc7ffc"
      },
      "execution_count": 109,
      "outputs": [
        {
          "output_type": "execute_result",
          "data": {
            "text/plain": [
              "       BorrowerState               Occupation EmploymentStatus     IncomeRange\n",
              "0                 CO                    Other    Self-employed  $25,000-49,999\n",
              "1                 CO             Professional         Employed  $50,000-74,999\n",
              "2                 GA                    Other    Not available   Not displayed\n",
              "3                 GA            Skilled Labor         Employed  $25,000-49,999\n",
              "4                 MN                Executive         Employed       $100,000+\n",
              "...              ...                      ...              ...             ...\n",
              "106216            IL  Food Service Management         Employed  $50,000-74,999\n",
              "106217            PA             Professional         Employed  $75,000-99,999\n",
              "106218            TX                    Other         Employed  $25,000-49,999\n",
              "106219            GA             Food Service        Full-time  $25,000-49,999\n",
              "106220            NY                Professor         Employed  $50,000-74,999\n",
              "\n",
              "[106220 rows x 4 columns]"
            ],
            "text/html": [
              "\n",
              "  <div id=\"df-c887f16f-245e-4dbc-978f-2b0534ee64bc\">\n",
              "    <div class=\"colab-df-container\">\n",
              "      <div>\n",
              "<style scoped>\n",
              "    .dataframe tbody tr th:only-of-type {\n",
              "        vertical-align: middle;\n",
              "    }\n",
              "\n",
              "    .dataframe tbody tr th {\n",
              "        vertical-align: top;\n",
              "    }\n",
              "\n",
              "    .dataframe thead th {\n",
              "        text-align: right;\n",
              "    }\n",
              "</style>\n",
              "<table border=\"1\" class=\"dataframe\">\n",
              "  <thead>\n",
              "    <tr style=\"text-align: right;\">\n",
              "      <th></th>\n",
              "      <th>BorrowerState</th>\n",
              "      <th>Occupation</th>\n",
              "      <th>EmploymentStatus</th>\n",
              "      <th>IncomeRange</th>\n",
              "    </tr>\n",
              "  </thead>\n",
              "  <tbody>\n",
              "    <tr>\n",
              "      <th>0</th>\n",
              "      <td>CO</td>\n",
              "      <td>Other</td>\n",
              "      <td>Self-employed</td>\n",
              "      <td>$25,000-49,999</td>\n",
              "    </tr>\n",
              "    <tr>\n",
              "      <th>1</th>\n",
              "      <td>CO</td>\n",
              "      <td>Professional</td>\n",
              "      <td>Employed</td>\n",
              "      <td>$50,000-74,999</td>\n",
              "    </tr>\n",
              "    <tr>\n",
              "      <th>2</th>\n",
              "      <td>GA</td>\n",
              "      <td>Other</td>\n",
              "      <td>Not available</td>\n",
              "      <td>Not displayed</td>\n",
              "    </tr>\n",
              "    <tr>\n",
              "      <th>3</th>\n",
              "      <td>GA</td>\n",
              "      <td>Skilled Labor</td>\n",
              "      <td>Employed</td>\n",
              "      <td>$25,000-49,999</td>\n",
              "    </tr>\n",
              "    <tr>\n",
              "      <th>4</th>\n",
              "      <td>MN</td>\n",
              "      <td>Executive</td>\n",
              "      <td>Employed</td>\n",
              "      <td>$100,000+</td>\n",
              "    </tr>\n",
              "    <tr>\n",
              "      <th>...</th>\n",
              "      <td>...</td>\n",
              "      <td>...</td>\n",
              "      <td>...</td>\n",
              "      <td>...</td>\n",
              "    </tr>\n",
              "    <tr>\n",
              "      <th>106216</th>\n",
              "      <td>IL</td>\n",
              "      <td>Food Service Management</td>\n",
              "      <td>Employed</td>\n",
              "      <td>$50,000-74,999</td>\n",
              "    </tr>\n",
              "    <tr>\n",
              "      <th>106217</th>\n",
              "      <td>PA</td>\n",
              "      <td>Professional</td>\n",
              "      <td>Employed</td>\n",
              "      <td>$75,000-99,999</td>\n",
              "    </tr>\n",
              "    <tr>\n",
              "      <th>106218</th>\n",
              "      <td>TX</td>\n",
              "      <td>Other</td>\n",
              "      <td>Employed</td>\n",
              "      <td>$25,000-49,999</td>\n",
              "    </tr>\n",
              "    <tr>\n",
              "      <th>106219</th>\n",
              "      <td>GA</td>\n",
              "      <td>Food Service</td>\n",
              "      <td>Full-time</td>\n",
              "      <td>$25,000-49,999</td>\n",
              "    </tr>\n",
              "    <tr>\n",
              "      <th>106220</th>\n",
              "      <td>NY</td>\n",
              "      <td>Professor</td>\n",
              "      <td>Employed</td>\n",
              "      <td>$50,000-74,999</td>\n",
              "    </tr>\n",
              "  </tbody>\n",
              "</table>\n",
              "<p>106220 rows × 4 columns</p>\n",
              "</div>\n",
              "      <button class=\"colab-df-convert\" onclick=\"convertToInteractive('df-c887f16f-245e-4dbc-978f-2b0534ee64bc')\"\n",
              "              title=\"Convert this dataframe to an interactive table.\"\n",
              "              style=\"display:none;\">\n",
              "        \n",
              "  <svg xmlns=\"http://www.w3.org/2000/svg\" height=\"24px\"viewBox=\"0 0 24 24\"\n",
              "       width=\"24px\">\n",
              "    <path d=\"M0 0h24v24H0V0z\" fill=\"none\"/>\n",
              "    <path d=\"M18.56 5.44l.94 2.06.94-2.06 2.06-.94-2.06-.94-.94-2.06-.94 2.06-2.06.94zm-11 1L8.5 8.5l.94-2.06 2.06-.94-2.06-.94L8.5 2.5l-.94 2.06-2.06.94zm10 10l.94 2.06.94-2.06 2.06-.94-2.06-.94-.94-2.06-.94 2.06-2.06.94z\"/><path d=\"M17.41 7.96l-1.37-1.37c-.4-.4-.92-.59-1.43-.59-.52 0-1.04.2-1.43.59L10.3 9.45l-7.72 7.72c-.78.78-.78 2.05 0 2.83L4 21.41c.39.39.9.59 1.41.59.51 0 1.02-.2 1.41-.59l7.78-7.78 2.81-2.81c.8-.78.8-2.07 0-2.86zM5.41 20L4 18.59l7.72-7.72 1.47 1.35L5.41 20z\"/>\n",
              "  </svg>\n",
              "      </button>\n",
              "      \n",
              "  <style>\n",
              "    .colab-df-container {\n",
              "      display:flex;\n",
              "      flex-wrap:wrap;\n",
              "      gap: 12px;\n",
              "    }\n",
              "\n",
              "    .colab-df-convert {\n",
              "      background-color: #E8F0FE;\n",
              "      border: none;\n",
              "      border-radius: 50%;\n",
              "      cursor: pointer;\n",
              "      display: none;\n",
              "      fill: #1967D2;\n",
              "      height: 32px;\n",
              "      padding: 0 0 0 0;\n",
              "      width: 32px;\n",
              "    }\n",
              "\n",
              "    .colab-df-convert:hover {\n",
              "      background-color: #E2EBFA;\n",
              "      box-shadow: 0px 1px 2px rgba(60, 64, 67, 0.3), 0px 1px 3px 1px rgba(60, 64, 67, 0.15);\n",
              "      fill: #174EA6;\n",
              "    }\n",
              "\n",
              "    [theme=dark] .colab-df-convert {\n",
              "      background-color: #3B4455;\n",
              "      fill: #D2E3FC;\n",
              "    }\n",
              "\n",
              "    [theme=dark] .colab-df-convert:hover {\n",
              "      background-color: #434B5C;\n",
              "      box-shadow: 0px 1px 3px 1px rgba(0, 0, 0, 0.15);\n",
              "      filter: drop-shadow(0px 1px 2px rgba(0, 0, 0, 0.3));\n",
              "      fill: #FFFFFF;\n",
              "    }\n",
              "  </style>\n",
              "\n",
              "      <script>\n",
              "        const buttonEl =\n",
              "          document.querySelector('#df-c887f16f-245e-4dbc-978f-2b0534ee64bc button.colab-df-convert');\n",
              "        buttonEl.style.display =\n",
              "          google.colab.kernel.accessAllowed ? 'block' : 'none';\n",
              "\n",
              "        async function convertToInteractive(key) {\n",
              "          const element = document.querySelector('#df-c887f16f-245e-4dbc-978f-2b0534ee64bc');\n",
              "          const dataTable =\n",
              "            await google.colab.kernel.invokeFunction('convertToInteractive',\n",
              "                                                     [key], {});\n",
              "          if (!dataTable) return;\n",
              "\n",
              "          const docLinkHtml = 'Like what you see? Visit the ' +\n",
              "            '<a target=\"_blank\" href=https://colab.research.google.com/notebooks/data_table.ipynb>data table notebook</a>'\n",
              "            + ' to learn more about interactive tables.';\n",
              "          element.innerHTML = '';\n",
              "          dataTable['output_type'] = 'display_data';\n",
              "          await google.colab.output.renderOutput(dataTable, element);\n",
              "          const docLink = document.createElement('div');\n",
              "          docLink.innerHTML = docLinkHtml;\n",
              "          element.appendChild(docLink);\n",
              "        }\n",
              "      </script>\n",
              "    </div>\n",
              "  </div>\n",
              "  "
            ]
          },
          "metadata": {},
          "execution_count": 109
        }
      ]
    },
    {
      "cell_type": "code",
      "source": [
        "df[['BorrowerState','Occupation','EmploymentStatus','IncomeRange']].nunique()"
      ],
      "metadata": {
        "colab": {
          "base_uri": "https://localhost:8080/"
        },
        "id": "OwQyRzziVIfn",
        "outputId": "c10eea75-2606-4453-9271-ac2e83092165"
      },
      "execution_count": 110,
      "outputs": [
        {
          "output_type": "execute_result",
          "data": {
            "text/plain": [
              "BorrowerState       51\n",
              "Occupation          67\n",
              "EmploymentStatus     8\n",
              "IncomeRange          8\n",
              "dtype: int64"
            ]
          },
          "metadata": {},
          "execution_count": 110
        }
      ]
    },
    {
      "cell_type": "code",
      "source": [
        ""
      ],
      "metadata": {
        "id": "a9REMXuQ3yDM"
      },
      "execution_count": 110,
      "outputs": []
    },
    {
      "cell_type": "code",
      "source": [
        "Employment_mapping = {\n",
        "           'Employed':8,\n",
        "           'Other': 3,\n",
        "           'Full-time': 8,\n",
        "            'Self-employed': 6,\n",
        "            'Retired': 2,\n",
        "            'Part-time': 4,\n",
        "            'Not employed':2,\n",
        "             'Not available':1 }           \n",
        "df['EmploymentStatus'] = df['EmploymentStatus'].map(Employment_mapping)"
      ],
      "metadata": {
        "id": "YWDrygr6VWFe"
      },
      "execution_count": 111,
      "outputs": []
    },
    {
      "cell_type": "code",
      "source": [
        "income_mapping = {\n",
        "           '$0':0,\n",
        "           'Not employed': 0,\n",
        "           '$1-24,999': 1,\n",
        "            '$25,000-49,999': 2,\n",
        "            '$50,000-74,999': 3,\n",
        "            '$75,000-99,999': 4,\n",
        "            '$100,000+':5,\n",
        "            'Not displayed':0 }           \n",
        "\n",
        "df['IncomeRange'] = df['IncomeRange'].map(income_mapping)"
      ],
      "metadata": {
        "id": "_VIFy7Jky8RU"
      },
      "execution_count": 112,
      "outputs": []
    },
    {
      "cell_type": "code",
      "source": [
        "df.drop(['BorrowerState','Occupation'], axis=1,inplace=True)"
      ],
      "metadata": {
        "id": "aq2hgwQl3X_c"
      },
      "execution_count": 113,
      "outputs": []
    },
    {
      "cell_type": "code",
      "source": [
        ""
      ],
      "metadata": {
        "id": "Gpgo54U_5a3z"
      },
      "execution_count": 113,
      "outputs": []
    },
    {
      "cell_type": "code",
      "source": [
        "df.corrwith(df['LoanStatus'])"
      ],
      "metadata": {
        "colab": {
          "base_uri": "https://localhost:8080/"
        },
        "id": "20EpY6eStC4a",
        "outputId": "fa0b8990-e041-4028-b0bf-cea276f1bb6e"
      },
      "execution_count": 114,
      "outputs": [
        {
          "output_type": "execute_result",
          "data": {
            "text/plain": [
              "Unnamed: 0                           -0.003656\n",
              "Term                                  0.102033\n",
              "LoanStatus                            1.000000\n",
              "BorrowerAPR                          -0.198308\n",
              "LenderYield                          -0.231300\n",
              "EstimatedEffectiveYield              -0.165435\n",
              "EstimatedLoss                        -0.162508\n",
              "EstimatedReturn                      -0.191105\n",
              "ProsperRating (numeric)               0.212679\n",
              "ListingCategory (numeric)             0.035891\n",
              "EmploymentStatus                      0.162724\n",
              "EmploymentStatusDuration              0.058885\n",
              "IsBorrowerHomeowner                   0.040614\n",
              "CurrentlyInGroup                     -0.185108\n",
              "CreditScoreRangeLower                 0.251241\n",
              "CreditScoreRangeUpper                 0.251241\n",
              "CurrentCreditLines                    0.071062\n",
              "OpenCreditLines                       0.086223\n",
              "TotalCreditLinespast7years            0.046151\n",
              "OpenRevolvingAccounts                 0.109148\n",
              "OpenRevolvingMonthlyPayment           0.064592\n",
              "InquiriesLast6Months                 -0.239832\n",
              "TotalInquiries                       -0.225828\n",
              "CurrentDelinquencies                 -0.187528\n",
              "AmountDelinquent                     -0.023976\n",
              "DelinquenciesLast7Years              -0.066615\n",
              "PublicRecordsLast10Years             -0.067266\n",
              "PublicRecordsLast12Months            -0.046522\n",
              "RevolvingCreditBalance                0.024157\n",
              "BankcardUtilization                  -0.005785\n",
              "AvailableBankcardCredit               0.077119\n",
              "TotalTrades                           0.061001\n",
              "TradesNeverDelinquent (percentage)    0.153711\n",
              "TradesOpenedLast6Months              -0.101210\n",
              "DebtToIncomeRatio                    -0.054053\n",
              "IncomeRange                           0.186362\n",
              "IncomeVerifiable                      0.030721\n",
              "StatedMonthlyIncome                   0.062329\n",
              "LoanCurrentDaysDelinquent            -0.719963\n",
              "LoanMonthsSinceOrigination           -0.358064\n",
              "LoanNumber                            0.358220\n",
              "LoanOriginalAmount                    0.123014\n",
              "MonthlyLoanPayment                    0.077744\n",
              "LP_CustomerPayments                   0.117003\n",
              "LP_CustomerPrincipalPayments          0.147116\n",
              "LP_InterestandFees                   -0.032658\n",
              "LP_ServiceFees                       -0.046736\n",
              "LP_CollectionFees                     0.227732\n",
              "LP_GrossPrincipalLoss                -0.652680\n",
              "LP_NetPrincipalLoss                  -0.643169\n",
              "LP_NonPrincipalRecoverypayments      -0.205224\n",
              "PercentFunded                         0.014153\n",
              "Recommendations                      -0.038427\n",
              "InvestmentFromFriendsCount           -0.014919\n",
              "InvestmentFromFriendsAmount          -0.013459\n",
              "Investors                            -0.064217\n",
              "dtype: float64"
            ]
          },
          "metadata": {},
          "execution_count": 114
        }
      ]
    },
    {
      "cell_type": "code",
      "source": [
        "X = df.drop('LoanStatus',axis=1)\n",
        "y = df['LoanStatus']"
      ],
      "metadata": {
        "id": "cQWZqJMpnyTk"
      },
      "execution_count": 115,
      "outputs": []
    },
    {
      "cell_type": "code",
      "source": [
        "from sklearn.ensemble import ExtraTreesClassifier\n",
        "model = ExtraTreesClassifier()\n",
        "model.fit(X,y)\n",
        "print(model.feature_importances_)"
      ],
      "metadata": {
        "colab": {
          "base_uri": "https://localhost:8080/"
        },
        "id": "DKVoKRJr4w-6",
        "outputId": "101e7da8-3e7a-43fd-997c-0f8752bd2e06"
      },
      "execution_count": 116,
      "outputs": [
        {
          "output_type": "stream",
          "name": "stdout",
          "text": [
            "[2.03864583e-03 1.91303283e-03 6.20081784e-03 8.56625723e-03\n",
            " 5.35519927e-03 3.17714162e-03 4.87641241e-03 8.07874575e-03\n",
            " 2.89183249e-03 5.32381001e-03 2.04179696e-03 1.38434407e-03\n",
            " 7.22265656e-03 5.32701625e-03 6.18748301e-03 2.11875727e-03\n",
            " 2.12828547e-03 2.04607940e-03 3.00734933e-03 2.22156875e-03\n",
            " 3.73228358e-03 3.54560212e-03 2.37205570e-03 1.22900249e-03\n",
            " 1.64731966e-03 1.47565812e-03 3.77833984e-04 2.10671002e-03\n",
            " 2.28700972e-03 2.20133353e-03 2.02014408e-03 2.47837879e-03\n",
            " 2.01485771e-03 2.07359883e-03 4.48327274e-03 7.34837484e-04\n",
            " 2.01121446e-03 3.60964172e-01 3.53040428e-02 2.18043886e-02\n",
            " 6.34937431e-03 5.03357288e-03 1.56847005e-02 2.63726555e-02\n",
            " 3.93501127e-03 5.06480915e-03 1.96397160e-02 1.58354001e-01\n",
            " 2.08238621e-01 1.05089791e-02 3.22479532e-04 3.04441638e-04\n",
            " 1.64379306e-04 1.74348664e-04 2.88196176e-03]\n"
          ]
        }
      ]
    },
    {
      "cell_type": "code",
      "source": [
        "f_t = pd.Series(model.feature_importances_,index=X.columns)\n",
        "f_t.nlargest(15).plot(kind='bar')\n",
        "plt.show()"
      ],
      "metadata": {
        "colab": {
          "base_uri": "https://localhost:8080/",
          "height": 430
        },
        "id": "m3S_Wa9g5JFd",
        "outputId": "5ea877ee-33fc-486f-8b62-e426ef2643e5"
      },
      "execution_count": 117,
      "outputs": [
        {
          "output_type": "display_data",
          "data": {
            "text/plain": [
              "<Figure size 432x288 with 1 Axes>"
            ],
            "image/png": "[encoded data removed]"
          },
          "metadata": {
            "needs_background": "light"
          }
        }
      ]
    },
    {
      "cell_type": "code",
      "source": [
        "df_model = df[['LoanCurrentDaysDelinquent','LP_NetPrincipalLoss','LP_GrossPrincipalLoss','LoanMonthsSinceOrigination','LP_CustomerPrincipalPayments','ProsperRating (numeric)','LP_CollectionFees','LenderYield','BorrowerAPR','LoanStatus']]"
      ],
      "metadata": {
        "id": "q9WCRAXm7YA6"
      },
      "execution_count": 118,
      "outputs": []
    },
    {
      "cell_type": "code",
      "source": [
        "df_model.describe()"
      ],
      "metadata": {
        "colab": {
          "base_uri": "https://localhost:8080/",
          "height": 382
        },
        "id": "wrO5c0d48SRb",
        "outputId": "45e5ed5e-2d66-40c9-95cb-2dc70670443f"
      },
      "execution_count": 120,
      "outputs": [
        {
          "output_type": "execute_result",
          "data": {
            "text/plain": [
              "       LoanCurrentDaysDelinquent  LP_NetPrincipalLoss  LP_GrossPrincipalLoss  \\\n",
              "count              106220.000000        106220.000000          106220.000000   \n",
              "mean                  138.164009           662.810299             681.665815   \n",
              "std                   436.885505          2346.102598            2377.683989   \n",
              "min                     0.000000          -954.550000             -94.200000   \n",
              "25%                     0.000000             0.000000               0.000000   \n",
              "50%                     0.000000             0.000000               0.000000   \n",
              "75%                     0.000000             0.000000               0.000000   \n",
              "max                  2599.000000         25000.000000           25000.000000   \n",
              "\n",
              "       LoanMonthsSinceOrigination  LP_CustomerPrincipalPayments  \\\n",
              "count               106220.000000                 106220.000000   \n",
              "mean                    28.880606                   3079.629993   \n",
              "std                     27.429582                   4057.312795   \n",
              "min                      0.000000                      0.000000   \n",
              "25%                      6.000000                    493.890000   \n",
              "50%                     19.000000                   1547.120000   \n",
              "75%                     46.000000                   4000.000000   \n",
              "max                     92.000000                  35000.000000   \n",
              "\n",
              "       ProsperRating (numeric)  LP_CollectionFees    LenderYield  \\\n",
              "count            106220.000000      106220.000000  106220.000000   \n",
              "mean                  4.080394         -13.995641       0.183423   \n",
              "std                   1.708091         110.112249       0.075151   \n",
              "min                   1.000000       -9274.750000      -0.010000   \n",
              "25%                   3.000000           0.000000       0.124375   \n",
              "50%                   4.000000           0.000000       0.174000   \n",
              "75%                   5.000000           0.000000       0.242400   \n",
              "max                   7.000000           0.000000       0.340000   \n",
              "\n",
              "         BorrowerAPR     LoanStatus  \n",
              "count  106220.000000  106220.000000  \n",
              "mean        0.220435       0.838260  \n",
              "std         0.080996       0.368214  \n",
              "min         0.006530       0.000000  \n",
              "25%         0.157130       1.000000  \n",
              "50%         0.211500       1.000000  \n",
              "75%         0.287040       1.000000  \n",
              "max         0.423950       1.000000  "
            ],
            "text/html": [
              "\n",
              "  <div id=\"df-0d38b434-941e-449f-8c7b-22b0189d8c28\">\n",
              "    <div class=\"colab-df-container\">\n",
              "      <div>\n",
              "<style scoped>\n",
              "    .dataframe tbody tr th:only-of-type {\n",
              "        vertical-align: middle;\n",
              "    }\n",
              "\n",
              "    .dataframe tbody tr th {\n",
              "        vertical-align: top;\n",
              "    }\n",
              "\n",
              "    .dataframe thead th {\n",
              "        text-align: right;\n",
              "    }\n",
              "</style>\n",
              "<table border=\"1\" class=\"dataframe\">\n",
              "  <thead>\n",
              "    <tr style=\"text-align: right;\">\n",
              "      <th></th>\n",
              "      <th>LoanCurrentDaysDelinquent</th>\n",
              "      <th>LP_NetPrincipalLoss</th>\n",
              "      <th>LP_GrossPrincipalLoss</th>\n",
              "      <th>LoanMonthsSinceOrigination</th>\n",
              "      <th>LP_CustomerPrincipalPayments</th>\n",
              "      <th>ProsperRating (numeric)</th>\n",
              "      <th>LP_CollectionFees</th>\n",
              "      <th>LenderYield</th>\n",
              "      <th>BorrowerAPR</th>\n",
              "      <th>LoanStatus</th>\n",
              "    </tr>\n",
              "  </thead>\n",
              "  <tbody>\n",
              "    <tr>\n",
              "      <th>count</th>\n",
              "      <td>106220.000000</td>\n",
              "      <td>106220.000000</td>\n",
              "      <td>106220.000000</td>\n",
              "      <td>106220.000000</td>\n",
              "      <td>106220.000000</td>\n",
              "      <td>106220.000000</td>\n",
              "      <td>106220.000000</td>\n",
              "      <td>106220.000000</td>\n",
              "      <td>106220.000000</td>\n",
              "      <td>106220.000000</td>\n",
              "    </tr>\n",
              "    <tr>\n",
              "      <th>mean</th>\n",
              "      <td>138.164009</td>\n",
              "      <td>662.810299</td>\n",
              "      <td>681.665815</td>\n",
              "      <td>28.880606</td>\n",
              "      <td>3079.629993</td>\n",
              "      <td>4.080394</td>\n",
              "      <td>-13.995641</td>\n",
              "      <td>0.183423</td>\n",
              "      <td>0.220435</td>\n",
              "      <td>0.838260</td>\n",
              "    </tr>\n",
              "    <tr>\n",
              "      <th>std</th>\n",
              "      <td>436.885505</td>\n",
              "      <td>2346.102598</td>\n",
              "      <td>2377.683989</td>\n",
              "      <td>27.429582</td>\n",
              "      <td>4057.312795</td>\n",
              "      <td>1.708091</td>\n",
              "      <td>110.112249</td>\n",
              "      <td>0.075151</td>\n",
              "      <td>0.080996</td>\n",
              "      <td>0.368214</td>\n",
              "    </tr>\n",
              "    <tr>\n",
              "      <th>min</th>\n",
              "      <td>0.000000</td>\n",
              "      <td>-954.550000</td>\n",
              "      <td>-94.200000</td>\n",
              "      <td>0.000000</td>\n",
              "      <td>0.000000</td>\n",
              "      <td>1.000000</td>\n",
              "      <td>-9274.750000</td>\n",
              "      <td>-0.010000</td>\n",
              "      <td>0.006530</td>\n",
              "      <td>0.000000</td>\n",
              "    </tr>\n",
              "    <tr>\n",
              "      <th>25%</th>\n",
              "      <td>0.000000</td>\n",
              "      <td>0.000000</td>\n",
              "      <td>0.000000</td>\n",
              "      <td>6.000000</td>\n",
              "      <td>493.890000</td>\n",
              "      <td>3.000000</td>\n",
              "      <td>0.000000</td>\n",
              "      <td>0.124375</td>\n",
              "      <td>0.157130</td>\n",
              "      <td>1.000000</td>\n",
              "    </tr>\n",
              "    <tr>\n",
              "      <th>50%</th>\n",
              "      <td>0.000000</td>\n",
              "      <td>0.000000</td>\n",
              "      <td>0.000000</td>\n",
              "      <td>19.000000</td>\n",
              "      <td>1547.120000</td>\n",
              "      <td>4.000000</td>\n",
              "      <td>0.000000</td>\n",
              "      <td>0.174000</td>\n",
              "      <td>0.211500</td>\n",
              "      <td>1.000000</td>\n",
              "    </tr>\n",
              "    <tr>\n",
              "      <th>75%</th>\n",
              "      <td>0.000000</td>\n",
              "      <td>0.000000</td>\n",
              "      <td>0.000000</td>\n",
              "      <td>46.000000</td>\n",
              "      <td>4000.000000</td>\n",
              "      <td>5.000000</td>\n",
              "      <td>0.000000</td>\n",
              "      <td>0.242400</td>\n",
              "      <td>0.287040</td>\n",
              "      <td>1.000000</td>\n",
              "    </tr>\n",
              "    <tr>\n",
              "      <th>max</th>\n",
              "      <td>2599.000000</td>\n",
              "      <td>25000.000000</td>\n",
              "      <td>25000.000000</td>\n",
              "      <td>92.000000</td>\n",
              "      <td>35000.000000</td>\n",
              "      <td>7.000000</td>\n",
              "      <td>0.000000</td>\n",
              "      <td>0.340000</td>\n",
              "      <td>0.423950</td>\n",
              "      <td>1.000000</td>\n",
              "    </tr>\n",
              "  </tbody>\n",
              "</table>\n",
              "</div>\n",
              "      <button class=\"colab-df-convert\" onclick=\"convertToInteractive('df-0d38b434-941e-449f-8c7b-22b0189d8c28')\"\n",
              "              title=\"Convert this dataframe to an interactive table.\"\n",
              "              style=\"display:none;\">\n",
              "        \n",
              "  <svg xmlns=\"http://www.w3.org/2000/svg\" height=\"24px\"viewBox=\"0 0 24 24\"\n",
              "       width=\"24px\">\n",
              "    <path d=\"M0 0h24v24H0V0z\" fill=\"none\"/>\n",
              "    <path d=\"M18.56 5.44l.94 2.06.94-2.06 2.06-.94-2.06-.94-.94-2.06-.94 2.06-2.06.94zm-11 1L8.5 8.5l.94-2.06 2.06-.94-2.06-.94L8.5 2.5l-.94 2.06-2.06.94zm10 10l.94 2.06.94-2.06 2.06-.94-2.06-.94-.94-2.06-.94 2.06-2.06.94z\"/><path d=\"M17.41 7.96l-1.37-1.37c-.4-.4-.92-.59-1.43-.59-.52 0-1.04.2-1.43.59L10.3 9.45l-7.72 7.72c-.78.78-.78 2.05 0 2.83L4 21.41c.39.39.9.59 1.41.59.51 0 1.02-.2 1.41-.59l7.78-7.78 2.81-2.81c.8-.78.8-2.07 0-2.86zM5.41 20L4 18.59l7.72-7.72 1.47 1.35L5.41 20z\"/>\n",
              "  </svg>\n",
              "      </button>\n",
              "      \n",
              "  <style>\n",
              "    .colab-df-container {\n",
              "      display:flex;\n",
              "      flex-wrap:wrap;\n",
              "      gap: 12px;\n",
              "    }\n",
              "\n",
              "    .colab-df-convert {\n",
              "      background-color: #E8F0FE;\n",
              "      border: none;\n",
              "      border-radius: 50%;\n",
              "      cursor: pointer;\n",
              "      display: none;\n",
              "      fill: #1967D2;\n",
              "      height: 32px;\n",
              "      padding: 0 0 0 0;\n",
              "      width: 32px;\n",
              "    }\n",
              "\n",
              "    .colab-df-convert:hover {\n",
              "      background-color: #E2EBFA;\n",
              "      box-shadow: 0px 1px 2px rgba(60, 64, 67, 0.3), 0px 1px 3px 1px rgba(60, 64, 67, 0.15);\n",
              "      fill: #174EA6;\n",
              "    }\n",
              "\n",
              "    [theme=dark] .colab-df-convert {\n",
              "      background-color: #3B4455;\n",
              "      fill: #D2E3FC;\n",
              "    }\n",
              "\n",
              "    [theme=dark] .colab-df-convert:hover {\n",
              "      background-color: #434B5C;\n",
              "      box-shadow: 0px 1px 3px 1px rgba(0, 0, 0, 0.15);\n",
              "      filter: drop-shadow(0px 1px 2px rgba(0, 0, 0, 0.3));\n",
              "      fill: #FFFFFF;\n",
              "    }\n",
              "  </style>\n",
              "\n",
              "      <script>\n",
              "        const buttonEl =\n",
              "          document.querySelector('#df-0d38b434-941e-449f-8c7b-22b0189d8c28 button.colab-df-convert');\n",
              "        buttonEl.style.display =\n",
              "          google.colab.kernel.accessAllowed ? 'block' : 'none';\n",
              "\n",
              "        async function convertToInteractive(key) {\n",
              "          const element = document.querySelector('#df-0d38b434-941e-449f-8c7b-22b0189d8c28');\n",
              "          const dataTable =\n",
              "            await google.colab.kernel.invokeFunction('convertToInteractive',\n",
              "                                                     [key], {});\n",
              "          if (!dataTable) return;\n",
              "\n",
              "          const docLinkHtml = 'Like what you see? Visit the ' +\n",
              "            '<a target=\"_blank\" href=https://colab.research.google.com/notebooks/data_table.ipynb>data table notebook</a>'\n",
              "            + ' to learn more about interactive tables.';\n",
              "          element.innerHTML = '';\n",
              "          dataTable['output_type'] = 'display_data';\n",
              "          await google.colab.output.renderOutput(dataTable, element);\n",
              "          const docLink = document.createElement('div');\n",
              "          docLink.innerHTML = docLinkHtml;\n",
              "          element.appendChild(docLink);\n",
              "        }\n",
              "      </script>\n",
              "    </div>\n",
              "  </div>\n",
              "  "
            ]
          },
          "metadata": {},
          "execution_count": 120
        }
      ]
    }
  ]
}